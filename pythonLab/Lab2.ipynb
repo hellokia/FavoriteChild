{
 "cells": [
  {
   "cell_type": "markdown",
   "id": "d2c4e0dd",
   "metadata": {},
   "source": [
    "Lab 2:"
   ]
  },
  {
   "cell_type": "markdown",
   "id": "f8ae748f",
   "metadata": {},
   "source": [
    "Exercise One"
   ]
  },
  {
   "cell_type": "code",
   "execution_count": 48,
   "id": "e9d837e5",
   "metadata": {},
   "outputs": [],
   "source": [
    "import math"
   ]
  },
  {
   "cell_type": "code",
   "execution_count": 49,
   "id": "eecee629",
   "metadata": {},
   "outputs": [],
   "source": [
    "def addTwoNumbers(f1,f2):\n",
    "    return f1+f2"
   ]
  },
  {
   "cell_type": "code",
   "execution_count": 50,
   "id": "4d2b3310",
   "metadata": {},
   "outputs": [
    {
     "name": "stdout",
     "output_type": "stream",
     "text": [
      "32.5\n"
     ]
    }
   ],
   "source": [
    "f1=25.2\n",
    "f2= 7.3\n",
    "print (addTwoNumbers(f1,f2))"
   ]
  },
  {
   "cell_type": "markdown",
   "id": "1c57dd85",
   "metadata": {},
   "source": [
    "Exercise Two"
   ]
  },
  {
   "cell_type": "code",
   "execution_count": 51,
   "id": "4ecd84bf",
   "metadata": {},
   "outputs": [],
   "source": [
    "def divTwoNumbers (f1,f2):\n",
    "    return f1/f2"
   ]
  },
  {
   "cell_type": "code",
   "execution_count": 52,
   "id": "5a966855",
   "metadata": {},
   "outputs": [
    {
     "name": "stdout",
     "output_type": "stream",
     "text": [
      "4.2\n"
     ]
    }
   ],
   "source": [
    "f1=12.6\n",
    "f2=3.0\n",
    "print (divTwoNumbers (f1,f2))"
   ]
  },
  {
   "cell_type": "markdown",
   "id": "d5e4ba3c",
   "metadata": {},
   "source": [
    "Exercise Three"
   ]
  },
  {
   "cell_type": "code",
   "execution_count": 53,
   "id": "f50c0263",
   "metadata": {},
   "outputs": [],
   "source": [
    "def subTwoNumbers (f1,f2):\n",
    "    z= f1-f2\n",
    "    return z"
   ]
  },
  {
   "cell_type": "code",
   "execution_count": 54,
   "id": "3df7eb41",
   "metadata": {},
   "outputs": [
    {
     "name": "stdout",
     "output_type": "stream",
     "text": [
      "2.55\n"
     ]
    }
   ],
   "source": [
    "f1= 6.66\n",
    "f2= 4.11\n",
    "print (subTwoNumbers (f1,f2))"
   ]
  },
  {
   "cell_type": "markdown",
   "id": "e312eeaa",
   "metadata": {},
   "source": [
    "Multiplication Exercise"
   ]
  },
  {
   "cell_type": "code",
   "execution_count": 55,
   "id": "4ef4a32d",
   "metadata": {},
   "outputs": [],
   "source": [
    "def mulTwoNumbers (f1,f2):\n",
    "    m= (f1*f2)\n",
    "    return m"
   ]
  },
  {
   "cell_type": "code",
   "execution_count": 56,
   "id": "09650ca6",
   "metadata": {},
   "outputs": [
    {
     "name": "stdout",
     "output_type": "stream",
     "text": [
      "50\n"
     ]
    }
   ],
   "source": [
    "f1=5\n",
    "f2=10\n",
    "print (mulTwoNumbers (f1,f2))"
   ]
  },
  {
   "cell_type": "markdown",
   "id": "c866dcce",
   "metadata": {},
   "source": [
    "Practice Problem 1"
   ]
  },
  {
   "cell_type": "code",
   "execution_count": 57,
   "id": "a468b0ab",
   "metadata": {},
   "outputs": [],
   "source": [
    "def f (x,y):\n",
    "    p= (((x+y)**3)/(math.sqrt(x**2+y**2)))\n",
    "    return int(p)"
   ]
  },
  {
   "cell_type": "code",
   "execution_count": 58,
   "id": "84fa82c5",
   "metadata": {},
   "outputs": [
    {
     "name": "stdout",
     "output_type": "stream",
     "text": [
      "68\n"
     ]
    }
   ],
   "source": [
    "x=3\n",
    "y=4\n",
    "print (f(x,y))"
   ]
  },
  {
   "cell_type": "markdown",
   "id": "e9698c47",
   "metadata": {},
   "source": [
    "Practice Problem 2"
   ]
  },
  {
   "cell_type": "code",
   "execution_count": 59,
   "id": "08c616a1",
   "metadata": {},
   "outputs": [],
   "source": [
    "def fahr2celsius (f):\n",
    "    c= (((f)-32)*(5/9))\n",
    "    return (c)"
   ]
  },
  {
   "cell_type": "code",
   "execution_count": 60,
   "id": "8238b717",
   "metadata": {},
   "outputs": [
    {
     "name": "stdout",
     "output_type": "stream",
     "text": [
      "23.333333333333336\n"
     ]
    }
   ],
   "source": [
    "f= 74\n",
    "print (fahr2celsius (f))"
   ]
  },
  {
   "cell_type": "markdown",
   "id": "aab2e9d0",
   "metadata": {},
   "source": [
    "Practice Problem 3"
   ]
  },
  {
   "cell_type": "code",
   "execution_count": 61,
   "id": "5c7f2547",
   "metadata": {},
   "outputs": [],
   "source": [
    "def volumeSphere (r):\n",
    "    v=((4/3)*math.pi*r**3)\n",
    "    return v"
   ]
  },
  {
   "cell_type": "code",
   "execution_count": 62,
   "id": "ed4e6b85",
   "metadata": {},
   "outputs": [
    {
     "name": "stdout",
     "output_type": "stream",
     "text": [
      "4188.790204786391\n"
     ]
    }
   ],
   "source": [
    "r=10\n",
    "print (volumeSphere (r))"
   ]
  },
  {
   "cell_type": "markdown",
   "id": "6b0c7f89",
   "metadata": {},
   "source": [
    "Practice Problem 4"
   ]
  },
  {
   "cell_type": "code",
   "execution_count": 63,
   "id": "8d4cc121",
   "metadata": {},
   "outputs": [],
   "source": [
    "def averageOfThree (f1,f2,f3):\n",
    "    a= ((f1+f2+f3)/3)\n",
    "    return int(a)"
   ]
  },
  {
   "cell_type": "code",
   "execution_count": 64,
   "id": "3415eccb",
   "metadata": {},
   "outputs": [
    {
     "data": {
      "text/plain": [
       "40"
      ]
     },
     "execution_count": 64,
     "metadata": {},
     "output_type": "execute_result"
    }
   ],
   "source": [
    "(averageOfThree (11,33,76))"
   ]
  },
  {
   "cell_type": "code",
   "execution_count": null,
   "id": "80a150db",
   "metadata": {},
   "outputs": [],
   "source": []
  },
  {
   "cell_type": "code",
   "execution_count": null,
   "id": "516e6b3f",
   "metadata": {},
   "outputs": [],
   "source": []
  }
 ],
 "metadata": {
  "kernelspec": {
   "display_name": "base",
   "language": "python",
   "name": "python3"
  },
  "language_info": {
   "codemirror_mode": {
    "name": "ipython",
    "version": 3
   },
   "file_extension": ".py",
   "mimetype": "text/x-python",
   "name": "python",
   "nbconvert_exporter": "python",
   "pygments_lexer": "ipython3",
   "version": "3.12.7"
  }
 },
 "nbformat": 4,
 "nbformat_minor": 5
}
