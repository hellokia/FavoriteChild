{
 "cells": [
  {
   "cell_type": "markdown",
   "id": "752cdae6",
   "metadata": {},
   "source": [
    "Lab Eleven:"
   ]
  },
  {
   "cell_type": "code",
   "execution_count": 57,
   "id": "df0459cc",
   "metadata": {},
   "outputs": [],
   "source": [
    "import turtle\n",
    "import numpy\n",
    "import math"
   ]
  },
  {
   "cell_type": "markdown",
   "id": "52940f2d",
   "metadata": {},
   "source": [
    "Exercise One"
   ]
  },
  {
   "cell_type": "code",
   "execution_count": 53,
   "id": "198ee2be",
   "metadata": {},
   "outputs": [],
   "source": [
    "def tSquare(n):\n",
    "    for i in range (4):\n",
    "        turtle.forward(n)\n",
    "        turtle.left(90)"
   ]
  },
  {
   "cell_type": "code",
   "execution_count": 54,
   "id": "f9dbd89e",
   "metadata": {},
   "outputs": [],
   "source": [
    "def tTriangle(n):\n",
    "    for i in range (3):\n",
    "        turtle.forward (n)\n",
    "        turtle.left(120)"
   ]
  },
  {
   "cell_type": "code",
   "execution_count": 55,
   "id": "e2c0b092",
   "metadata": {},
   "outputs": [],
   "source": [
    "def tHouse(n1):\n",
    "    turtle.goto(0,0)\n",
    "    tSquare(n1)\n",
    "    turtle.penup()\n",
    "    turtle.goto(n1/4,0)\n",
    "    turtle.pendown()\n",
    "    tSquare(n1/2)\n",
    "    turtle.penup ()\n",
    "    turtle.goto(0,n1)\n",
    "    turtle.pendown()\n",
    "    tTriangle(n1)\n",
    "    turtle.exitonclick()"
   ]
  },
  {
   "cell_type": "code",
   "execution_count": 60,
   "id": "acbbf8f8",
   "metadata": {},
   "outputs": [],
   "source": [
    "tHouse(80)"
   ]
  },
  {
   "cell_type": "markdown",
   "id": "cea6543a",
   "metadata": {},
   "source": [
    "Exercise Two"
   ]
  },
  {
   "cell_type": "code",
   "execution_count": null,
   "id": "63825f75",
   "metadata": {},
   "outputs": [],
   "source": [
    "def twoDmatrix(n2,m):\n",
    "    t=0\n",
    "    line=str(t)\n",
    "    while t!=m+1:\n",
    "        if t%n2==0:\n",
    "            if t!=0:\n",
    "                print (line)\n",
    "                line=str(t)\n",
    "            else:\n",
    "                line=str(t)\n",
    "        else:\n",
    "            line+=\" \"\n",
    "            line+=str(t)\n",
    "        t+=1\n",
    "    print (line)"
   ]
  },
  {
   "cell_type": "code",
   "execution_count": null,
   "id": "591c14a9",
   "metadata": {},
   "outputs": [
    {
     "name": "stdout",
     "output_type": "stream",
     "text": [
      "0 1 2 3 4 5\n",
      "6 7 8 9 10 11\n",
      "12 13 14 15 16 17\n",
      "18 19 20 21\n"
     ]
    }
   ],
   "source": [
    "twoDmatrix(6,21)"
   ]
  },
  {
   "cell_type": "markdown",
   "id": "b53c2bc0",
   "metadata": {},
   "source": [
    "Exercise Three"
   ]
  },
  {
   "cell_type": "code",
   "execution_count": null,
   "id": "ebb7e8cf",
   "metadata": {},
   "outputs": [],
   "source": [
    "def armstrongChecker(a):\n",
    "    strA=str(a)\n",
    "    if (int(strA[0])**3+int(strA[1])**3+int(strA[2])**3)==a:\n",
    "        return True\n",
    "    else:\n",
    "        return False"
   ]
  },
  {
   "cell_type": "code",
   "execution_count": null,
   "id": "3737ce67",
   "metadata": {},
   "outputs": [
    {
     "name": "stdout",
     "output_type": "stream",
     "text": [
      "True\n"
     ]
    }
   ],
   "source": [
    "print(armstrongChecker(371))"
   ]
  },
  {
   "cell_type": "markdown",
   "id": "1c587c29",
   "metadata": {},
   "source": [
    "Practice Problem One"
   ]
  },
  {
   "cell_type": "code",
   "execution_count": null,
   "id": "8637c1a8",
   "metadata": {},
   "outputs": [],
   "source": [
    "def cEmail (s1):\n",
    "    s2=s1.split(\"@\")\n",
    "    s3=s2[1].split(\".\")\n",
    "    return s3[0]"
   ]
  },
  {
   "cell_type": "code",
   "execution_count": null,
   "id": "07286486",
   "metadata": {},
   "outputs": [
    {
     "name": "stdout",
     "output_type": "stream",
     "text": [
      "uab\n"
     ]
    }
   ],
   "source": [
    "s1=\"unan@uab.edu\"\n",
    "print (cEmail(s1))"
   ]
  },
  {
   "cell_type": "markdown",
   "id": "05435c74",
   "metadata": {},
   "source": [
    "Practice Problem Two"
   ]
  },
  {
   "cell_type": "code",
   "execution_count": 58,
   "id": "59c58dc4",
   "metadata": {},
   "outputs": [],
   "source": [
    "def basicStats (npArray):\n",
    "    return[numpy.mean(npArray), numpy.std(npArray), numpy.var(npArray)]"
   ]
  },
  {
   "cell_type": "code",
   "execution_count": 59,
   "id": "e86d06b2",
   "metadata": {},
   "outputs": [
    {
     "name": "stdout",
     "output_type": "stream",
     "text": [
      "[2.5, 1.707825127659933, 2.9166666666666665]\n"
     ]
    }
   ],
   "source": [
    "npArray = [0,1,2,3,4,5]\n",
    "print (basicStats(npArray))"
   ]
  }
 ],
 "metadata": {
  "kernelspec": {
   "display_name": "base",
   "language": "python",
   "name": "python3"
  },
  "language_info": {
   "codemirror_mode": {
    "name": "ipython",
    "version": 3
   },
   "file_extension": ".py",
   "mimetype": "text/x-python",
   "name": "python",
   "nbconvert_exporter": "python",
   "pygments_lexer": "ipython3",
   "version": "3.12.7"
  }
 },
 "nbformat": 4,
 "nbformat_minor": 5
}
